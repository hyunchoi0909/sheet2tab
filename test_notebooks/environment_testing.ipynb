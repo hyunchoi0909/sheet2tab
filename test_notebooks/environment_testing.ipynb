{
 "cells": [
  {
   "cell_type": "code",
   "execution_count": 4,
   "id": "adf0af81",
   "metadata": {},
   "outputs": [],
   "source": [
    "import numpy\n",
    "import sys\n",
    "sys.path.append('../')\n",
    "import environment *"
   ]
  },
  {
   "cell_type": "code",
   "execution_count": 5,
   "id": "a8e95b3f",
   "metadata": {},
   "outputs": [
    {
     "name": "stdout",
     "output_type": "stream",
     "text": [
      "C:\\Users\\hyunc\\Desktop\\Sean's Stuff\\coding stuff\\tab_generator\\test_notebooks\\..\\environment.py\n"
     ]
    }
   ],
   "source": [
    "print(environment.PathEnv.ROOT)"
   ]
  },
  {
   "cell_type": "code",
   "execution_count": null,
   "id": "b8946235",
   "metadata": {},
   "outputs": [],
   "source": []
  }
 ],
 "metadata": {
  "kernelspec": {
   "display_name": "Python 3 (ipykernel)",
   "language": "python",
   "name": "python3"
  },
  "language_info": {
   "codemirror_mode": {
    "name": "ipython",
    "version": 3
   },
   "file_extension": ".py",
   "mimetype": "text/x-python",
   "name": "python",
   "nbconvert_exporter": "python",
   "pygments_lexer": "ipython3",
   "version": "3.10.12"
  }
 },
 "nbformat": 4,
 "nbformat_minor": 5
}
